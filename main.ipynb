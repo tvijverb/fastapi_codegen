{
 "cells": [
  {
   "cell_type": "code",
   "execution_count": 16,
   "metadata": {},
   "outputs": [],
   "source": [
    "import time\n",
    "\n",
    "import torch\n",
    "from transformers import AutoTokenizer, AutoModelForCausalLM\n",
    "device = \"cuda:0\" if torch.cuda.is_available() else \"cpu\"\n",
    "# device = \"cpu\"\n",
    "tokenizer = AutoTokenizer.from_pretrained(\"Salesforce/codegen-350M-mono\")\n",
    "model = AutoModelForCausalLM.from_pretrained(\"Salesforce/codegen-350M-mono\")\n",
    "# tokenizer = AutoTokenizer.from_pretrained(\"Salesforce/codegen-2B-mono\")\n",
    "# model = AutoModelForCausalLM.from_pretrained(\"Salesforce/codegen-2B-mono\")\n",
    "model     = model.to(device)\n"
   ]
  },
  {
   "cell_type": "code",
   "execution_count": 30,
   "metadata": {},
   "outputs": [
    {
     "name": "stderr",
     "output_type": "stream",
     "text": [
      "Setting `pad_token_id` to `eos_token_id`:50256 for open-end generation.\n"
     ]
    },
    {
     "name": "stdout",
     "output_type": "stream",
     "text": [
      "def month_int_to_str(month_number: int) -> str:\n",
      "    \"\"\"\n",
      "    Converts a month number to a string.\n",
      "\n",
      "    :param month_number: The month number to convert.\n",
      "    :return: The month string.\n",
      "    \"\"\"\n",
      "    months = {\n",
      "        1: 'January',\n",
      "        2: 'February',\n",
      "        3: 'March',\n",
      "        4: 'April',\n",
      "        5: 'May',\n",
      "        6: 'June',\n",
      "        7: 'July',\n",
      "        8: 'August',\n",
      "        9: 'September',\n",
      "        10: 'October',\n",
      "        11: 'November',\n",
      "        12: 'December'\n",
      "    }\n",
      "    return months[month_number]\n"
     ]
    }
   ],
   "source": [
    "inputs = tokenizer(\"\"\"def month_int_to_str(month_number: int) -> str:\n",
    "    \\\"\\\"\\\"\"\"\", return_tensors=\"pt\").to(device)\n",
    "sample = model.generate(**inputs, max_length=256)\n",
    "print(tokenizer.decode(sample[0], truncate_before_pattern=[r\"\\n\\n^#\", \"^'''\", \"\\n\\n\\n\"]))"
   ]
  }
 ],
 "metadata": {
  "kernelspec": {
   "display_name": "Python 3.11.0 ('py11')",
   "language": "python",
   "name": "python3"
  },
  "language_info": {
   "codemirror_mode": {
    "name": "ipython",
    "version": 3
   },
   "file_extension": ".py",
   "mimetype": "text/x-python",
   "name": "python",
   "nbconvert_exporter": "python",
   "pygments_lexer": "ipython3",
   "version": "3.11.0"
  },
  "orig_nbformat": 4,
  "vscode": {
   "interpreter": {
    "hash": "8f321abba087788508dd9e983d85cc8bd02a49097d4829b367dfa76867beec9a"
   }
  }
 },
 "nbformat": 4,
 "nbformat_minor": 2
}
